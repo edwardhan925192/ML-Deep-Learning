{
  "nbformat": 4,
  "nbformat_minor": 0,
  "metadata": {
    "colab": {
      "provenance": [],
      "authorship_tag": "ABX9TyNgr/JxQaJ5bYvcem1WsQQK",
      "include_colab_link": true
    },
    "kernelspec": {
      "name": "python3",
      "display_name": "Python 3"
    },
    "language_info": {
      "name": "python"
    }
  },
  "cells": [
    {
      "cell_type": "markdown",
      "metadata": {
        "id": "view-in-github",
        "colab_type": "text"
      },
      "source": [
        "<a href=\"https://colab.research.google.com/github/edwardhan925192/ML-Deep-Learning/blob/main/Sequential/Disaster_RNN_prediction.ipynb\" target=\"_parent\"><img src=\"https://colab.research.google.com/assets/colab-badge.svg\" alt=\"Open In Colab\"/></a>"
      ]
    },
    {
      "cell_type": "code",
      "execution_count": 4,
      "metadata": {
        "id": "D-3EqpZkwJQN"
      },
      "outputs": [],
      "source": [
        "import numpy as np\n",
        "import tensorflow as tf\n",
        "import pandas as pd \n",
        "from tensorflow.keras.models import Sequential\n",
        "from tensorflow.keras.layers import Embedding, SimpleRNN, Dense "
      ]
    },
    {
      "cell_type": "code",
      "source": [
        "tweet_train = pd.read_csv('./train.csv')\n",
        "tweet_test = pd.read_csv('./test.csv')"
      ],
      "metadata": {
        "id": "4tJ8QmCewuu6"
      },
      "execution_count": 5,
      "outputs": []
    },
    {
      "cell_type": "code",
      "source": [
        "import gensim"
      ],
      "metadata": {
        "id": "wzTcIR6S5GxV"
      },
      "execution_count": 6,
      "outputs": []
    },
    {
      "cell_type": "code",
      "source": [
        "from tensorflow.keras.preprocessing.text import Tokenizer\n",
        "from tensorflow.keras.preprocessing.sequence import pad_sequences"
      ],
      "metadata": {
        "id": "NXRSs1T69GI2"
      },
      "execution_count": 7,
      "outputs": []
    },
    {
      "cell_type": "code",
      "source": [
        "tweet_train = tweet_train[['text','target']]"
      ],
      "metadata": {
        "id": "PUL35OLTw94h"
      },
      "execution_count": 8,
      "outputs": []
    },
    {
      "cell_type": "markdown",
      "source": [
        "#1. 단어를 vector 형태로 \n",
        "#2. model building \n",
        "#3. training and hyperparameter tunning"
      ],
      "metadata": {
        "id": "2S5-9ZQ-xJVO"
      }
    },
    {
      "cell_type": "code",
      "source": [
        "token_tweettrain = tweet_train['text'].apply(gensim.utils.simple_preprocess)\n"
      ],
      "metadata": {
        "id": "GOerzoLexLTT"
      },
      "execution_count": 9,
      "outputs": []
    },
    {
      "cell_type": "code",
      "source": [
        "x = token_tweettrain\n",
        "y = tweet_train['target']"
      ],
      "metadata": {
        "id": "SGCODA8g7N3H"
      },
      "execution_count": 10,
      "outputs": []
    },
    {
      "cell_type": "code",
      "source": [
        "tokenizer = Tokenizer()\n",
        "tokenizer.fit_on_texts(x) #random 숫자로 변형 \n",
        "sequences = tokenizer.texts_to_sequences(x)"
      ],
      "metadata": {
        "id": "FD8UV1nA7bDO"
      },
      "execution_count": 11,
      "outputs": []
    },
    {
      "cell_type": "code",
      "source": [
        "# Padding/truncation\n",
        "max_length = 15\n",
        "padded_sequences = pad_sequences(sequences, maxlen=max_length, padding='post')\n",
        "\n",
        "# Convert input data (x) to a NumPy array\n",
        "x_preprocessed = np.array(padded_sequences)"
      ],
      "metadata": {
        "id": "-1ePMRY69R1i"
      },
      "execution_count": 12,
      "outputs": []
    },
    {
      "cell_type": "code",
      "source": [
        "vocab_size = len(tokenizer.word_index) + 1\n",
        "embedding_dim = 10\n",
        "seq_length = 15\n",
        "hidden_units = 32 "
      ],
      "metadata": {
        "id": "1iIBc0h25fD1"
      },
      "execution_count": 13,
      "outputs": []
    },
    {
      "cell_type": "code",
      "source": [
        "model = Sequential([\n",
        "#vocab_size = total unique words, embedding_dim = total features, hidden_units = neurons\n",
        "Embedding(vocab_size, embedding_dim, input_length=seq_length),\n",
        "SimpleRNN(hidden_units, return_sequences=False),\n",
        "Dense(1, activation=\"sigmoid\")\n",
        "])\n",
        "\n",
        "model.compile(loss=\"binary_crossentropy\", optimizer=\"adam\")"
      ],
      "metadata": {
        "id": "Ek7dk3uy5YZ7"
      },
      "execution_count": 20,
      "outputs": []
    },
    {
      "cell_type": "code",
      "source": [
        "y.shape"
      ],
      "metadata": {
        "colab": {
          "base_uri": "https://localhost:8080/"
        },
        "id": "eKcP6hZG_aQ_",
        "outputId": "0524b74f-e083-4d43-8210-7ca94cf3d2bf"
      },
      "execution_count": 15,
      "outputs": [
        {
          "output_type": "execute_result",
          "data": {
            "text/plain": [
              "(7613,)"
            ]
          },
          "metadata": {},
          "execution_count": 15
        }
      ]
    },
    {
      "cell_type": "code",
      "source": [
        "epochs = 100\n",
        "\n",
        "history = model.fit(x_preprocessed, y, epochs=epochs)"
      ],
      "metadata": {
        "colab": {
          "base_uri": "https://localhost:8080/"
        },
        "id": "DebEiLMY7IE9",
        "outputId": "a40a7f0b-8441-41d1-ccda-d48f570e17b8"
      },
      "execution_count": 21,
      "outputs": [
        {
          "output_type": "stream",
          "name": "stdout",
          "text": [
            "Epoch 1/100\n",
            "238/238 [==============================] - 3s 8ms/step - loss: 0.5968\n",
            "Epoch 2/100\n",
            "238/238 [==============================] - 2s 8ms/step - loss: 0.3417\n",
            "Epoch 3/100\n",
            "238/238 [==============================] - 3s 12ms/step - loss: 0.1561\n",
            "Epoch 4/100\n",
            "238/238 [==============================] - 2s 8ms/step - loss: 0.0751\n",
            "Epoch 5/100\n",
            "238/238 [==============================] - 2s 7ms/step - loss: 0.0481\n",
            "Epoch 6/100\n",
            "238/238 [==============================] - 2s 8ms/step - loss: 0.0348\n",
            "Epoch 7/100\n",
            "238/238 [==============================] - 2s 8ms/step - loss: 0.0294\n",
            "Epoch 8/100\n",
            "238/238 [==============================] - 2s 9ms/step - loss: 0.0254\n",
            "Epoch 9/100\n",
            "238/238 [==============================] - 3s 12ms/step - loss: 0.0226\n",
            "Epoch 10/100\n",
            "238/238 [==============================] - 3s 11ms/step - loss: 0.0198\n",
            "Epoch 11/100\n",
            "238/238 [==============================] - 2s 7ms/step - loss: 0.0182\n",
            "Epoch 12/100\n",
            "238/238 [==============================] - 2s 8ms/step - loss: 0.0174\n",
            "Epoch 13/100\n",
            "238/238 [==============================] - 2s 8ms/step - loss: 0.0175\n",
            "Epoch 14/100\n",
            "238/238 [==============================] - 2s 7ms/step - loss: 0.0158\n",
            "Epoch 15/100\n",
            "238/238 [==============================] - 2s 8ms/step - loss: 0.0158\n",
            "Epoch 16/100\n",
            "238/238 [==============================] - 3s 11ms/step - loss: 0.0146\n",
            "Epoch 17/100\n",
            "238/238 [==============================] - 2s 9ms/step - loss: 0.0152\n",
            "Epoch 18/100\n",
            "238/238 [==============================] - 2s 8ms/step - loss: 0.0138\n",
            "Epoch 19/100\n",
            "238/238 [==============================] - 2s 7ms/step - loss: 0.0132\n",
            "Epoch 20/100\n",
            "238/238 [==============================] - 2s 7ms/step - loss: 0.0149\n",
            "Epoch 21/100\n",
            "238/238 [==============================] - 2s 8ms/step - loss: 0.0128\n",
            "Epoch 22/100\n",
            "238/238 [==============================] - 2s 8ms/step - loss: 0.0134\n",
            "Epoch 23/100\n",
            "238/238 [==============================] - 3s 13ms/step - loss: 0.0133\n",
            "Epoch 24/100\n",
            "238/238 [==============================] - 3s 12ms/step - loss: 0.0125\n",
            "Epoch 25/100\n",
            "238/238 [==============================] - 2s 8ms/step - loss: 0.0131\n",
            "Epoch 26/100\n",
            "238/238 [==============================] - 2s 8ms/step - loss: 0.0127\n",
            "Epoch 27/100\n",
            "238/238 [==============================] - 2s 8ms/step - loss: 0.0124\n",
            "Epoch 28/100\n",
            "238/238 [==============================] - 2s 8ms/step - loss: 0.0122\n",
            "Epoch 29/100\n",
            "238/238 [==============================] - 3s 11ms/step - loss: 0.0118\n",
            "Epoch 30/100\n",
            "238/238 [==============================] - 2s 9ms/step - loss: 0.0108\n",
            "Epoch 31/100\n",
            "238/238 [==============================] - 2s 8ms/step - loss: 0.0115\n",
            "Epoch 32/100\n",
            "238/238 [==============================] - 2s 8ms/step - loss: 0.0134\n",
            "Epoch 33/100\n",
            "238/238 [==============================] - 2s 8ms/step - loss: 0.0133\n",
            "Epoch 34/100\n",
            "238/238 [==============================] - 2s 8ms/step - loss: 0.0124\n",
            "Epoch 35/100\n",
            "238/238 [==============================] - 2s 9ms/step - loss: 0.0128\n",
            "Epoch 36/100\n",
            "238/238 [==============================] - 3s 11ms/step - loss: 0.0108\n",
            "Epoch 37/100\n",
            "238/238 [==============================] - 2s 7ms/step - loss: 0.0104\n",
            "Epoch 38/100\n",
            "238/238 [==============================] - 2s 8ms/step - loss: 0.0107\n",
            "Epoch 39/100\n",
            "238/238 [==============================] - 2s 7ms/step - loss: 0.0107\n",
            "Epoch 40/100\n",
            "238/238 [==============================] - 2s 8ms/step - loss: 0.0102\n",
            "Epoch 41/100\n",
            "238/238 [==============================] - 2s 8ms/step - loss: 0.0105\n",
            "Epoch 42/100\n",
            "238/238 [==============================] - 3s 11ms/step - loss: 0.0103\n",
            "Epoch 43/100\n",
            "238/238 [==============================] - 2s 9ms/step - loss: 0.0109\n",
            "Epoch 44/100\n",
            "238/238 [==============================] - 2s 8ms/step - loss: 0.0106\n",
            "Epoch 45/100\n",
            "238/238 [==============================] - 2s 7ms/step - loss: 0.0102\n",
            "Epoch 46/100\n",
            "238/238 [==============================] - 2s 8ms/step - loss: 0.0102\n",
            "Epoch 47/100\n",
            "238/238 [==============================] - 2s 8ms/step - loss: 0.0138\n",
            "Epoch 48/100\n",
            "238/238 [==============================] - 2s 8ms/step - loss: 0.0134\n",
            "Epoch 49/100\n",
            "238/238 [==============================] - 3s 13ms/step - loss: 0.0112\n",
            "Epoch 50/100\n",
            "238/238 [==============================] - 2s 7ms/step - loss: 0.0112\n",
            "Epoch 51/100\n",
            "238/238 [==============================] - 2s 7ms/step - loss: 0.0101\n",
            "Epoch 52/100\n",
            "238/238 [==============================] - 2s 7ms/step - loss: 0.0102\n",
            "Epoch 53/100\n",
            "238/238 [==============================] - 2s 8ms/step - loss: 0.0101\n",
            "Epoch 54/100\n",
            "238/238 [==============================] - 2s 7ms/step - loss: 0.0102\n",
            "Epoch 55/100\n",
            "238/238 [==============================] - 2s 10ms/step - loss: 0.0099\n",
            "Epoch 56/100\n",
            "238/238 [==============================] - 2s 10ms/step - loss: 0.0099\n",
            "Epoch 57/100\n",
            "238/238 [==============================] - 2s 7ms/step - loss: 0.0099\n",
            "Epoch 58/100\n",
            "238/238 [==============================] - 2s 7ms/step - loss: 0.0099\n",
            "Epoch 59/100\n",
            "238/238 [==============================] - 2s 8ms/step - loss: 0.0101\n",
            "Epoch 60/100\n",
            "238/238 [==============================] - 2s 8ms/step - loss: 0.0110\n",
            "Epoch 61/100\n",
            "238/238 [==============================] - 2s 8ms/step - loss: 0.0104\n",
            "Epoch 62/100\n",
            "238/238 [==============================] - 3s 12ms/step - loss: 0.0100\n",
            "Epoch 63/100\n",
            "238/238 [==============================] - 2s 8ms/step - loss: 0.0100\n",
            "Epoch 64/100\n",
            "238/238 [==============================] - 2s 10ms/step - loss: 0.0098\n",
            "Epoch 65/100\n",
            "238/238 [==============================] - 2s 8ms/step - loss: 0.0098\n",
            "Epoch 66/100\n",
            "238/238 [==============================] - 2s 9ms/step - loss: 0.0099\n",
            "Epoch 67/100\n",
            "238/238 [==============================] - 2s 8ms/step - loss: 0.0098\n",
            "Epoch 68/100\n",
            "238/238 [==============================] - 3s 12ms/step - loss: 0.0098\n",
            "Epoch 69/100\n",
            "238/238 [==============================] - 2s 8ms/step - loss: 0.0100\n",
            "Epoch 70/100\n",
            "238/238 [==============================] - 2s 7ms/step - loss: 0.0101\n",
            "Epoch 71/100\n",
            "238/238 [==============================] - 2s 10ms/step - loss: 0.0122\n",
            "Epoch 72/100\n",
            "238/238 [==============================] - 3s 11ms/step - loss: 0.0104\n",
            "Epoch 73/100\n",
            "238/238 [==============================] - 2s 8ms/step - loss: 0.0108\n",
            "Epoch 74/100\n",
            "238/238 [==============================] - 3s 12ms/step - loss: 0.0099\n",
            "Epoch 75/100\n",
            "238/238 [==============================] - 2s 7ms/step - loss: 0.0099\n",
            "Epoch 76/100\n",
            "238/238 [==============================] - 2s 8ms/step - loss: 0.0096\n",
            "Epoch 77/100\n",
            "238/238 [==============================] - 2s 8ms/step - loss: 0.0098\n",
            "Epoch 78/100\n",
            "238/238 [==============================] - 2s 7ms/step - loss: 0.0097\n",
            "Epoch 79/100\n",
            "238/238 [==============================] - 2s 7ms/step - loss: 0.0097\n",
            "Epoch 80/100\n",
            "238/238 [==============================] - 2s 9ms/step - loss: 0.0097\n",
            "Epoch 81/100\n",
            "238/238 [==============================] - 2s 10ms/step - loss: 0.0097\n",
            "Epoch 82/100\n",
            "238/238 [==============================] - 2s 8ms/step - loss: 0.0096\n",
            "Epoch 83/100\n",
            "238/238 [==============================] - 2s 9ms/step - loss: 0.0096\n",
            "Epoch 84/100\n",
            "238/238 [==============================] - 3s 12ms/step - loss: 0.0098\n",
            "Epoch 85/100\n",
            "238/238 [==============================] - 2s 8ms/step - loss: 0.0096\n",
            "Epoch 86/100\n",
            "238/238 [==============================] - 2s 10ms/step - loss: 0.0095\n",
            "Epoch 87/100\n",
            "238/238 [==============================] - 2s 10ms/step - loss: 0.0096\n",
            "Epoch 88/100\n",
            "238/238 [==============================] - 2s 8ms/step - loss: 0.0095\n",
            "Epoch 89/100\n",
            "238/238 [==============================] - 2s 8ms/step - loss: 0.0114\n",
            "Epoch 90/100\n",
            "238/238 [==============================] - 2s 8ms/step - loss: 0.0105\n",
            "Epoch 91/100\n",
            "238/238 [==============================] - 2s 10ms/step - loss: 0.0098\n",
            "Epoch 92/100\n",
            "238/238 [==============================] - 2s 10ms/step - loss: 0.0096\n",
            "Epoch 93/100\n",
            "238/238 [==============================] - 3s 11ms/step - loss: 0.0096\n",
            "Epoch 94/100\n",
            "238/238 [==============================] - 2s 9ms/step - loss: 0.0096\n",
            "Epoch 95/100\n",
            "238/238 [==============================] - 2s 8ms/step - loss: 0.0095\n",
            "Epoch 96/100\n",
            "238/238 [==============================] - 2s 9ms/step - loss: 0.0096\n",
            "Epoch 97/100\n",
            "238/238 [==============================] - 2s 10ms/step - loss: 0.0094\n",
            "Epoch 98/100\n",
            "238/238 [==============================] - 3s 13ms/step - loss: 0.0095\n",
            "Epoch 99/100\n",
            "238/238 [==============================] - 2s 9ms/step - loss: 0.0099\n",
            "Epoch 100/100\n",
            "238/238 [==============================] - 2s 8ms/step - loss: 0.0098\n"
          ]
        },
        {
          "output_type": "execute_result",
          "data": {
            "text/plain": [
              "<keras.callbacks.History at 0x7fd3e2c22ec0>"
            ]
          },
          "metadata": {},
          "execution_count": 21
        }
      ]
    },
    {
      "cell_type": "markdown",
      "source": [
        "#preprocess test value "
      ],
      "metadata": {
        "id": "EKkA_tuWBo3V"
      }
    },
    {
      "cell_type": "code",
      "source": [
        "history.history"
      ],
      "metadata": {
        "colab": {
          "base_uri": "https://localhost:8080/",
          "height": 165
        },
        "id": "zrPDi0-IB96k",
        "outputId": "bf9e2900-2806-40fd-90ee-b81b700a4a7d"
      },
      "execution_count": 24,
      "outputs": [
        {
          "output_type": "error",
          "ename": "NameError",
          "evalue": "ignored",
          "traceback": [
            "\u001b[0;31m---------------------------------------------------------------------------\u001b[0m",
            "\u001b[0;31mNameError\u001b[0m                                 Traceback (most recent call last)",
            "\u001b[0;32m<ipython-input-24-6cd13d6a221b>\u001b[0m in \u001b[0;36m<cell line: 1>\u001b[0;34m()\u001b[0m\n\u001b[0;32m----> 1\u001b[0;31m \u001b[0mhistory\u001b[0m\u001b[0;34m.\u001b[0m\u001b[0mhistory\u001b[0m\u001b[0;34m\u001b[0m\u001b[0;34m\u001b[0m\u001b[0m\n\u001b[0m",
            "\u001b[0;31mNameError\u001b[0m: name 'history' is not defined"
          ]
        }
      ]
    },
    {
      "cell_type": "code",
      "source": [
        "tweet_test['text']"
      ],
      "metadata": {
        "colab": {
          "base_uri": "https://localhost:8080/"
        },
        "id": "LbL6N9j2Bs04",
        "outputId": "4508607d-9df6-4117-8ae0-8aa717d101b3"
      },
      "execution_count": 23,
      "outputs": [
        {
          "output_type": "execute_result",
          "data": {
            "text/plain": [
              "0                      Just happened a terrible car crash\n",
              "1       Heard about #earthquake is different cities, s...\n",
              "2       there is a forest fire at spot pond, geese are...\n",
              "3                Apocalypse lighting. #Spokane #wildfires\n",
              "4           Typhoon Soudelor kills 28 in China and Taiwan\n",
              "                              ...                        \n",
              "3258    EARTHQUAKE SAFETY LOS ANGELES ÛÒ SAFETY FASTE...\n",
              "3259    Storm in RI worse than last hurricane. My city...\n",
              "3260    Green Line derailment in Chicago http://t.co/U...\n",
              "3261    MEG issues Hazardous Weather Outlook (HWO) htt...\n",
              "3262    #CityofCalgary has activated its Municipal Eme...\n",
              "Name: text, Length: 3263, dtype: object"
            ]
          },
          "metadata": {},
          "execution_count": 23
        }
      ]
    },
    {
      "cell_type": "code",
      "source": [
        "\n",
        "tokenizer.fit_on_texts(x) #random 숫자로 변형 \n",
        "sequences = tokenizer.texts_to_sequences(x)\n",
        "# Padding/truncation\n",
        "max_length = 15\n",
        "padded_sequences = pad_sequences(sequences, maxlen=max_length, padding='post')\n",
        "\n",
        "# Convert input data (x) to a NumPy array\n",
        "x_test_preprocessed = np.array(padded_sequences)"
      ],
      "metadata": {
        "id": "xSMzESrCBoXV"
      },
      "execution_count": null,
      "outputs": []
    }
  ]
}